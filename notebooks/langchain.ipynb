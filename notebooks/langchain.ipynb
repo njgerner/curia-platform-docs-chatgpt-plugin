{
 "cells": [
  {
   "cell_type": "code",
   "execution_count": 3,
   "metadata": {
    "collapsed": true
   },
   "outputs": [],
   "source": [
    "from langchain.chat_models import ChatOpenAI\n",
    "from langchain.agents import load_tools, initialize_agent\n",
    "from langchain.tools import AIPluginTool"
   ]
  },
  {
   "cell_type": "code",
   "execution_count": 11,
   "outputs": [
    {
     "data": {
      "text/plain": "True"
     },
     "execution_count": 11,
     "metadata": {},
     "output_type": "execute_result"
    }
   ],
   "source": [
    "## load .env\n",
    "import os\n",
    "from dotenv import load_dotenv\n",
    "load_dotenv()"
   ],
   "metadata": {
    "collapsed": false
   }
  },
  {
   "cell_type": "code",
   "execution_count": 23,
   "outputs": [],
   "source": [
    "tool = AIPluginTool.from_plugin_url(\"https://curia-platform-docs-chatgpt.herokuapp.com/.well-known/ai-plugin.json\")"
   ],
   "metadata": {
    "collapsed": false
   }
  },
  {
   "cell_type": "code",
   "execution_count": 24,
   "outputs": [],
   "source": [
    "llm = ChatOpenAI(temperature=0)\n",
    "tools = load_tools([\"requests\"] )\n",
    "tools += [tool]\n",
    "\n",
    "agent_chain = initialize_agent(tools, llm, agent=\"zero-shot-react-description\", verbose=True)"
   ],
   "metadata": {
    "collapsed": false
   }
  },
  {
   "cell_type": "code",
   "execution_count": 25,
   "outputs": [
    {
     "name": "stdout",
     "output_type": "stream",
     "text": [
      "\n",
      "\n",
      "\u001B[1m> Entering new AgentExecutor chain...\u001B[0m\n",
      "\u001B[32;1m\u001B[1;3mI should check the Curia Platform API documentation to see if there is any information on authentication.\n",
      "Action: retrieval\n",
      "Action Input: None\u001B[0m\n",
      "Observation: \u001B[33;1m\u001B[1;3mUsage Guide: Use the Curia Platform Docs Plugin to get relevant document information from the Curia Platform API. Use the query endpoint to make queries for relevant docs. Use the upsert endpoint to save previously made queries and the responses for future use. The api works best when searching for words that are related to the Curia Platform, which is a machine learning platform for that allows users to build risk & intervention models for healthcare.\n",
      "\n",
      "OpenAPI Spec: {'openapi': '3.0.2', 'info': {'title': 'Curia Platform Docs Plugin Retrieval API', 'description': 'A retrieval API for querying and filtering documents based on natural language queries and metadata', 'version': '1.0.0', 'servers': [{'url': 'https://curia-platform-docs-chatgpt.herokuapp.com'}]}, 'paths': {'/upsert': {'post': {'summary': 'Upsert', 'description': \"Save chat information. Accepts an array of documents with text (potential questions + conversation text), metadata (source 'chat' and timestamp, no ID as this will be generated). Confirm with the user before saving, ask for more details/context.\", 'operationId': 'upsert_upsert_post', 'requestBody': {'content': {'application/json': {'schema': {'$ref': '#/components/schemas/UpsertRequest'}}}, 'required': True}, 'responses': {'200': {'description': 'Successful Response', 'content': {'application/json': {'schema': {'$ref': '#/components/schemas/UpsertResponse'}}}}, '422': {'description': 'Validation Error', 'content': {'application/json': {'schema': {'$ref': '#/components/schemas/HTTPValidationError'}}}}}, 'security': [{'HTTPBearer': []}]}}, '/query': {'post': {'summary': 'Query', 'description': \"Accepts search query objects array each with query and optional filter. Break down complex questions into sub-questions. Refine results by criteria, e.g. time / source, don't do this often. Split queries if ResponseTooLargeError occurs.\", 'operationId': 'query_query_post', 'requestBody': {'content': {'application/json': {'schema': {'$ref': '#/components/schemas/QueryRequest'}}}, 'required': True}, 'responses': {'200': {'description': 'Successful Response', 'content': {'application/json': {'schema': {'$ref': '#/components/schemas/QueryResponse'}}}}, '422': {'description': 'Validation Error', 'content': {'application/json': {'schema': {'$ref': '#/components/schemas/HTTPValidationError'}}}}}, 'security': [{'HTTPBearer': []}]}}}, 'components': {'schemas': {'Document': {'title': 'Document', 'required': ['text'], 'type': 'object', 'properties': {'id': {'title': 'Id', 'type': 'string'}, 'text': {'title': 'Text', 'type': 'string'}, 'metadata': {'$ref': '#/components/schemas/DocumentMetadata'}}}, 'DocumentChunkMetadata': {'title': 'DocumentChunkMetadata', 'type': 'object', 'properties': {'source': {'$ref': '#/components/schemas/Source'}, 'source_id': {'title': 'Source Id', 'type': 'string'}, 'url': {'title': 'Url', 'type': 'string'}, 'created_at': {'title': 'Created At', 'type': 'string'}, 'author': {'title': 'Author', 'type': 'string'}, 'document_id': {'title': 'Document Id', 'type': 'string'}}}, 'DocumentChunkWithScore': {'title': 'DocumentChunkWithScore', 'required': ['text', 'metadata', 'score'], 'type': 'object', 'properties': {'id': {'title': 'Id', 'type': 'string'}, 'text': {'title': 'Text', 'type': 'string'}, 'metadata': {'$ref': '#/components/schemas/DocumentChunkMetadata'}, 'embedding': {'title': 'Embedding', 'type': 'array', 'items': {'type': 'number'}}, 'score': {'title': 'Score', 'type': 'number'}}}, 'DocumentMetadata': {'title': 'DocumentMetadata', 'type': 'object', 'properties': {'source': {'$ref': '#/components/schemas/Source'}, 'source_id': {'title': 'Source Id', 'type': 'string'}, 'url': {'title': 'Url', 'type': 'string'}, 'created_at': {'title': 'Created At', 'type': 'string'}, 'author': {'title': 'Author', 'type': 'string'}}}, 'DocumentMetadataFilter': {'title': 'DocumentMetadataFilter', 'type': 'object', 'properties': {'document_id': {'title': 'Document Id', 'type': 'string'}, 'source': {'$ref': '#/components/schemas/Source'}, 'source_id': {'title': 'Source Id', 'type': 'string'}, 'author': {'title': 'Author', 'type': 'string'}, 'start_date': {'title': 'Start Date', 'type': 'string'}, 'end_date': {'title': 'End Date', 'type': 'string'}}}, 'HTTPValidationError': {'title': 'HTTPValidationError', 'type': 'object', 'properties': {'detail': {'title': 'Detail', 'type': 'array', 'items': {'$ref': '#/components/schemas/ValidationError'}}}}, 'Query': {'title': 'Query', 'required': ['query'], 'type': 'object', 'properties': {'query': {'title': 'Query', 'type': 'string'}, 'filter': {'$ref': '#/components/schemas/DocumentMetadataFilter'}, 'top_k': {'title': 'Top K', 'type': 'integer', 'default': 3}}}, 'QueryRequest': {'title': 'QueryRequest', 'required': ['queries'], 'type': 'object', 'properties': {'queries': {'title': 'Queries', 'type': 'array', 'items': {'$ref': '#/components/schemas/Query'}}}}, 'QueryResponse': {'title': 'QueryResponse', 'required': ['results'], 'type': 'object', 'properties': {'results': {'title': 'Results', 'type': 'array', 'items': {'$ref': '#/components/schemas/QueryResult'}}}}, 'QueryResult': {'title': 'QueryResult', 'required': ['query', 'results'], 'type': 'object', 'properties': {'query': {'title': 'Query', 'type': 'string'}, 'results': {'title': 'Results', 'type': 'array', 'items': {'$ref': '#/components/schemas/DocumentChunkWithScore'}}}}, 'Source': {'title': 'Source', 'enum': ['email', 'file', 'chat'], 'type': 'string', 'description': 'An enumeration.'}, 'UpsertRequest': {'title': 'UpsertRequest', 'required': ['documents'], 'type': 'object', 'properties': {'documents': {'title': 'Documents', 'type': 'array', 'items': {'$ref': '#/components/schemas/Document'}}}}, 'UpsertResponse': {'title': 'UpsertResponse', 'required': ['ids'], 'type': 'object', 'properties': {'ids': {'title': 'Ids', 'type': 'array', 'items': {'type': 'string'}}}}, 'ValidationError': {'title': 'ValidationError', 'required': ['loc', 'msg', 'type'], 'type': 'object', 'properties': {'loc': {'title': 'Location', 'type': 'array', 'items': {'anyOf': [{'type': 'string'}, {'type': 'integer'}]}}, 'msg': {'title': 'Message', 'type': 'string'}, 'type': {'title': 'Error Type', 'type': 'string'}}}}, 'securitySchemes': {'HTTPBearer': {'type': 'http', 'scheme': 'bearer'}}}}\u001B[0m\n",
      "Thought:\u001B[32;1m\u001B[1;3mI should search through the Curia Platform API documentation for information on authentication.\n",
      "Action: requests_get\n",
      "Action Input: https://curia-platform-docs-chatgpt.herokuapp.com\u001B[0m\n",
      "Observation: \u001B[36;1m\u001B[1;3m{\"detail\":\"Not Found\"}\u001B[0m\n",
      "Thought:\u001B[32;1m\u001B[1;3mI may need to search for a different endpoint or consult with the Curia Platform support team for information on authentication.\n",
      "Final Answer: Unable to determine how to setup authentication with the Curia Platform based on the available tools and documentation.\u001B[0m\n",
      "\n",
      "\u001B[1m> Finished chain.\u001B[0m\n"
     ]
    },
    {
     "data": {
      "text/plain": "'Unable to determine how to setup authentication with the Curia Platform based on the available tools and documentation.'"
     },
     "execution_count": 25,
     "metadata": {},
     "output_type": "execute_result"
    }
   ],
   "source": [
    "agent_chain.run(\"how do i setup authentication with the curia platform?\")"
   ],
   "metadata": {
    "collapsed": false
   }
  },
  {
   "cell_type": "code",
   "execution_count": null,
   "outputs": [],
   "source": [],
   "metadata": {
    "collapsed": false
   }
  },
  {
   "cell_type": "code",
   "execution_count": null,
   "outputs": [],
   "source": [],
   "metadata": {
    "collapsed": false
   }
  }
 ],
 "metadata": {
  "kernelspec": {
   "display_name": "Python 3",
   "language": "python",
   "name": "python3"
  },
  "language_info": {
   "codemirror_mode": {
    "name": "ipython",
    "version": 2
   },
   "file_extension": ".py",
   "mimetype": "text/x-python",
   "name": "python",
   "nbconvert_exporter": "python",
   "pygments_lexer": "ipython2",
   "version": "2.7.6"
  }
 },
 "nbformat": 4,
 "nbformat_minor": 0
}
