{
 "cells": [
  {
   "cell_type": "code",
   "execution_count": 3,
   "metadata": {
    "collapsed": true
   },
   "outputs": [],
   "source": [
    "from langchain.chat_models import ChatOpenAI\n",
    "from langchain.agents import load_tools, initialize_agent\n",
    "from langchain.tools import AIPluginTool"
   ]
  },
  {
   "cell_type": "code",
   "execution_count": 11,
   "outputs": [
    {
     "data": {
      "text/plain": "True"
     },
     "execution_count": 11,
     "metadata": {},
     "output_type": "execute_result"
    }
   ],
   "source": [
    "## load .env\n",
    "import os\n",
    "from dotenv import load_dotenv\n",
    "load_dotenv()"
   ],
   "metadata": {
    "collapsed": false
   }
  },
  {
   "cell_type": "code",
   "execution_count": 18,
   "outputs": [],
   "source": [
    "tool = AIPluginTool.from_plugin_url(\"https://curia-platform-docs-chatgpt.herokuapp.com/.well-known/ai-plugin.json\")"
   ],
   "metadata": {
    "collapsed": false
   }
  },
  {
   "cell_type": "code",
   "execution_count": 19,
   "outputs": [],
   "source": [
    "llm = ChatOpenAI(temperature=0)\n",
    "tools = load_tools([\"requests\"] )\n",
    "tools += [tool]\n",
    "\n",
    "agent_chain = initialize_agent(tools, llm, agent=\"zero-shot-react-description\", verbose=True)"
   ],
   "metadata": {
    "collapsed": false
   }
  },
  {
   "cell_type": "code",
   "execution_count": 22,
   "outputs": [
    {
     "name": "stdout",
     "output_type": "stream",
     "text": [
      "\n",
      "\n",
      "\u001B[1m> Entering new AgentExecutor chain...\u001B[0m\n",
      "\u001B[32;1m\u001B[1;3mI should check the Curia Platform Docs Plugin API to see if there is any information on authentication.\n",
      "Action: retrieval\n",
      "Action Input: None\u001B[0m\n",
      "Observation: \u001B[33;1m\u001B[1;3mUsage Guide: Plugin for searching through the Curia Platform API documents to find answers to questions and retrieve relevant information. Use it whenever a user asks something that might be found in the Curia Platform API docs.\n",
      "\n",
      "OpenAPI Spec: {'openapi': '3.0.2', 'info': {'title': 'Curia Platform Docs Plugin Retrieval API', 'description': 'A retrieval API for querying and filtering documents based on natural language queries and metadata', 'version': '1.0.0', 'servers': [{'url': 'https://curia-platform-docs-chatgpt.herokuapp.com'}]}, 'paths': {'/upsert': {'post': {'summary': 'Upsert', 'description': \"Save chat information. Accepts an array of documents with text (potential questions + conversation text), metadata (source 'chat' and timestamp, no ID as this will be generated). Confirm with the user before saving, ask for more details/context.\", 'operationId': 'upsert_upsert_post', 'requestBody': {'content': {'application/json': {'schema': {'$ref': '#/components/schemas/UpsertRequest'}}}, 'required': True}, 'responses': {'200': {'description': 'Successful Response', 'content': {'application/json': {'schema': {'$ref': '#/components/schemas/UpsertResponse'}}}}, '422': {'description': 'Validation Error', 'content': {'application/json': {'schema': {'$ref': '#/components/schemas/HTTPValidationError'}}}}}, 'security': [{'HTTPBearer': []}]}}, '/query': {'post': {'summary': 'Query', 'description': \"Accepts search query objects array each with query and optional filter. Break down complex questions into sub-questions. Refine results by criteria, e.g. time / source, don't do this often. Split queries if ResponseTooLargeError occurs.\", 'operationId': 'query_query_post', 'requestBody': {'content': {'application/json': {'schema': {'$ref': '#/components/schemas/QueryRequest'}}}, 'required': True}, 'responses': {'200': {'description': 'Successful Response', 'content': {'application/json': {'schema': {'$ref': '#/components/schemas/QueryResponse'}}}}, '422': {'description': 'Validation Error', 'content': {'application/json': {'schema': {'$ref': '#/components/schemas/HTTPValidationError'}}}}}, 'security': [{'HTTPBearer': []}]}}}, 'components': {'schemas': {'Document': {'title': 'Document', 'required': ['text'], 'type': 'object', 'properties': {'id': {'title': 'Id', 'type': 'string'}, 'text': {'title': 'Text', 'type': 'string'}, 'metadata': {'$ref': '#/components/schemas/DocumentMetadata'}}}, 'DocumentChunkMetadata': {'title': 'DocumentChunkMetadata', 'type': 'object', 'properties': {'source': {'$ref': '#/components/schemas/Source'}, 'source_id': {'title': 'Source Id', 'type': 'string'}, 'url': {'title': 'Url', 'type': 'string'}, 'created_at': {'title': 'Created At', 'type': 'string'}, 'author': {'title': 'Author', 'type': 'string'}, 'document_id': {'title': 'Document Id', 'type': 'string'}}}, 'DocumentChunkWithScore': {'title': 'DocumentChunkWithScore', 'required': ['text', 'metadata', 'score'], 'type': 'object', 'properties': {'id': {'title': 'Id', 'type': 'string'}, 'text': {'title': 'Text', 'type': 'string'}, 'metadata': {'$ref': '#/components/schemas/DocumentChunkMetadata'}, 'embedding': {'title': 'Embedding', 'type': 'array', 'items': {'type': 'number'}}, 'score': {'title': 'Score', 'type': 'number'}}}, 'DocumentMetadata': {'title': 'DocumentMetadata', 'type': 'object', 'properties': {'source': {'$ref': '#/components/schemas/Source'}, 'source_id': {'title': 'Source Id', 'type': 'string'}, 'url': {'title': 'Url', 'type': 'string'}, 'created_at': {'title': 'Created At', 'type': 'string'}, 'author': {'title': 'Author', 'type': 'string'}}}, 'DocumentMetadataFilter': {'title': 'DocumentMetadataFilter', 'type': 'object', 'properties': {'document_id': {'title': 'Document Id', 'type': 'string'}, 'source': {'$ref': '#/components/schemas/Source'}, 'source_id': {'title': 'Source Id', 'type': 'string'}, 'author': {'title': 'Author', 'type': 'string'}, 'start_date': {'title': 'Start Date', 'type': 'string'}, 'end_date': {'title': 'End Date', 'type': 'string'}}}, 'HTTPValidationError': {'title': 'HTTPValidationError', 'type': 'object', 'properties': {'detail': {'title': 'Detail', 'type': 'array', 'items': {'$ref': '#/components/schemas/ValidationError'}}}}, 'Query': {'title': 'Query', 'required': ['query'], 'type': 'object', 'properties': {'query': {'title': 'Query', 'type': 'string'}, 'filter': {'$ref': '#/components/schemas/DocumentMetadataFilter'}, 'top_k': {'title': 'Top K', 'type': 'integer', 'default': 3}}}, 'QueryRequest': {'title': 'QueryRequest', 'required': ['queries'], 'type': 'object', 'properties': {'queries': {'title': 'Queries', 'type': 'array', 'items': {'$ref': '#/components/schemas/Query'}}}}, 'QueryResponse': {'title': 'QueryResponse', 'required': ['results'], 'type': 'object', 'properties': {'results': {'title': 'Results', 'type': 'array', 'items': {'$ref': '#/components/schemas/QueryResult'}}}}, 'QueryResult': {'title': 'QueryResult', 'required': ['query', 'results'], 'type': 'object', 'properties': {'query': {'title': 'Query', 'type': 'string'}, 'results': {'title': 'Results', 'type': 'array', 'items': {'$ref': '#/components/schemas/DocumentChunkWithScore'}}}}, 'Source': {'title': 'Source', 'enum': ['email', 'file', 'chat'], 'type': 'string', 'description': 'An enumeration.'}, 'UpsertRequest': {'title': 'UpsertRequest', 'required': ['documents'], 'type': 'object', 'properties': {'documents': {'title': 'Documents', 'type': 'array', 'items': {'$ref': '#/components/schemas/Document'}}}}, 'UpsertResponse': {'title': 'UpsertResponse', 'required': ['ids'], 'type': 'object', 'properties': {'ids': {'title': 'Ids', 'type': 'array', 'items': {'type': 'string'}}}}, 'ValidationError': {'title': 'ValidationError', 'required': ['loc', 'msg', 'type'], 'type': 'object', 'properties': {'loc': {'title': 'Location', 'type': 'array', 'items': {'anyOf': [{'type': 'string'}, {'type': 'integer'}]}}, 'msg': {'title': 'Message', 'type': 'string'}, 'type': {'title': 'Error Type', 'type': 'string'}}}}, 'securitySchemes': {'HTTPBearer': {'type': 'http', 'scheme': 'bearer'}}}}\u001B[0m\n",
      "Thought:\u001B[32;1m\u001B[1;3mI should use the Curia Platform Docs Plugin API to search for information on authentication.\n",
      "Action: requests_get\n",
      "Action Input: https://curia-platform-docs-chatgpt.herokuapp.com/\u001B[0m\n",
      "Observation: \u001B[36;1m\u001B[1;3m{\"detail\":\"Not Found\"}\u001B[0m\n",
      "Thought:\u001B[32;1m\u001B[1;3mI should try adding \"/docs\" to the end of the URL to access the documentation.\n",
      "Action: requests_get\n",
      "Action Input: https://curia-platform-docs-chatgpt.herokuapp.com/docs\u001B[0m\n",
      "Observation: \u001B[36;1m\u001B[1;3m\n",
      "    <!DOCTYPE html>\n",
      "    <html>\n",
      "    <head>\n",
      "    <link type=\"text/css\" rel=\"stylesheet\" href=\"https://cdn.jsdelivr.net/npm/swagger-ui-dist@4/swagger-ui.css\">\n",
      "    <link rel=\"shortcut icon\" href=\"https://fastapi.tiangolo.com/img/favicon.png\">\n",
      "    <title>FastAPI - Swagger UI</title>\n",
      "    </head>\n",
      "    <body>\n",
      "    <div id=\"swagger-ui\">\n",
      "    </div>\n",
      "    <script src=\"https://cdn.jsdelivr.net/npm/swagger-ui-dist@4/swagger-ui-bundle.js\"></script>\n",
      "    <!-- `SwaggerUIBundle` is now available on the page -->\n",
      "    <script>\n",
      "    const ui = SwaggerUIBundle({\n",
      "        url: '/openapi.json',\n",
      "    \"dom_id\": \"#swagger-ui\",\n",
      "\"layout\": \"BaseLayout\",\n",
      "\"deepLinking\": true,\n",
      "\"showExtensions\": true,\n",
      "\"showCommonExtensions\": true,\n",
      "oauth2RedirectUrl: window.location.origin + '/docs/oauth2-redirect',\n",
      "    presets: [\n",
      "        SwaggerUIBundle.presets.apis,\n",
      "        SwaggerUIBundle.SwaggerUIStandalonePreset\n",
      "        ],\n",
      "    })\n",
      "    </script>\n",
      "    </body>\n",
      "    </html>\n",
      "    \u001B[0m\n",
      "Thought:\u001B[32;1m\u001B[1;3mI should use the Swagger UI to search for information on authentication.\n",
      "Action: requests_get\n",
      "Action Input: https://curia-platform-docs-chatgpt.herokuapp.com/openapi.json\u001B[0m\n",
      "Observation: \u001B[36;1m\u001B[1;3m{\"openapi\":\"3.0.2\",\"info\":{\"title\":\"FastAPI\",\"version\":\"0.1.0\"},\"paths\":{\"/upsert-file\":{\"post\":{\"summary\":\"Upsert File\",\"operationId\":\"upsert_file_upsert_file_post\",\"requestBody\":{\"content\":{\"multipart/form-data\":{\"schema\":{\"$ref\":\"#/components/schemas/Body_upsert_file_upsert_file_post\"}}},\"required\":true},\"responses\":{\"200\":{\"description\":\"Successful Response\",\"content\":{\"application/json\":{\"schema\":{\"$ref\":\"#/components/schemas/UpsertResponse\"}}}},\"422\":{\"description\":\"Validation Error\",\"content\":{\"application/json\":{\"schema\":{\"$ref\":\"#/components/schemas/HTTPValidationError\"}}}}},\"security\":[{\"HTTPBearer\":[]}]}},\"/upsert\":{\"post\":{\"summary\":\"Upsert\",\"operationId\":\"upsert_upsert_post\",\"requestBody\":{\"content\":{\"application/json\":{\"schema\":{\"$ref\":\"#/components/schemas/UpsertRequest\"}}},\"required\":true},\"responses\":{\"200\":{\"description\":\"Successful Response\",\"content\":{\"application/json\":{\"schema\":{\"$ref\":\"#/components/schemas/UpsertResponse\"}}}},\"422\":{\"description\":\"Validation Error\",\"content\":{\"application/json\":{\"schema\":{\"$ref\":\"#/components/schemas/HTTPValidationError\"}}}}},\"security\":[{\"HTTPBearer\":[]}]}},\"/query\":{\"post\":{\"summary\":\"Query Main\",\"operationId\":\"query_main_query_post\",\"requestBody\":{\"content\":{\"application/json\":{\"schema\":{\"$ref\":\"#/components/schemas/QueryRequest\"}}},\"required\":true},\"responses\":{\"200\":{\"description\":\"Successful Response\",\"content\":{\"application/json\":{\"schema\":{\"$ref\":\"#/components/schemas/QueryResponse\"}}}},\"422\":{\"description\":\"Validation Error\",\"content\":{\"application/json\":{\"schema\":{\"$ref\":\"#/components/schemas/HTTPValidationError\"}}}}},\"security\":[{\"HTTPBearer\":[]}]}},\"/delete\":{\"delete\":{\"summary\":\"Delete\",\"operationId\":\"delete_delete_delete\",\"requestBody\":{\"content\":{\"application/json\":{\"schema\":{\"$ref\":\"#/components/schemas/DeleteRequest\"}}},\"required\":true},\"responses\":{\"200\":{\"description\":\"Successful Response\",\"content\":{\"application/json\":{\"schema\":{\"$ref\":\"#/components/schemas/DeleteResponse\"}}}},\"422\":{\"description\":\"Validation Error\",\"content\":{\"application/json\":{\"schema\":{\"$ref\":\"#/components/schemas/HTTPValidationError\"}}}}},\"security\":[{\"HTTPBearer\":[]}]}}},\"components\":{\"schemas\":{\"Body_upsert_file_upsert_file_post\":{\"title\":\"Body_upsert_file_upsert_file_post\",\"required\":[\"file\"],\"type\":\"object\",\"properties\":{\"file\":{\"title\":\"File\",\"type\":\"string\",\"format\":\"binary\"}}},\"DeleteRequest\":{\"title\":\"DeleteRequest\",\"type\":\"object\",\"properties\":{\"ids\":{\"title\":\"Ids\",\"type\":\"array\",\"items\":{\"type\":\"string\"}},\"filter\":{\"$ref\":\"#/components/schemas/DocumentMetadataFilter\"},\"delete_all\":{\"title\":\"Delete All\",\"type\":\"boolean\",\"default\":false}}},\"DeleteResponse\":{\"title\":\"DeleteResponse\",\"required\":[\"success\"],\"type\":\"object\",\"properties\":{\"success\":{\"title\":\"Success\",\"type\":\"boolean\"}}},\"Document\":{\"title\":\"Document\",\"required\":[\"text\"],\"type\":\"object\",\"properties\":{\"id\":{\"title\":\"Id\",\"type\":\"string\"},\"text\":{\"title\":\"Text\",\"type\":\"string\"},\"metadata\":{\"$ref\":\"#/components/schemas/DocumentMetadata\"}}},\"DocumentChunkMetadata\":{\"title\":\"DocumentChunkMetadata\",\"type\":\"object\",\"properties\":{\"source\":{\"$ref\":\"#/components/schemas/Source\"},\"source_id\":{\"title\":\"Source Id\",\"type\":\"string\"},\"url\":{\"title\":\"Url\",\"type\":\"string\"},\"created_at\":{\"title\":\"Created At\",\"type\":\"string\"},\"author\":{\"title\":\"Author\",\"type\":\"string\"},\"document_id\":{\"title\":\"Document Id\",\"type\":\"string\"}}},\"DocumentChunkWithScore\":{\"title\":\"DocumentChunkWithScore\",\"required\":[\"text\",\"metadata\",\"score\"],\"type\":\"object\",\"properties\":{\"id\":{\"title\":\"Id\",\"type\":\"string\"},\"text\":{\"title\":\"Text\",\"type\":\"string\"},\"metadata\":{\"$ref\":\"#/components/schemas/DocumentChunkMetadata\"},\"embedding\":{\"title\":\"Embedding\",\"type\":\"array\",\"items\":{\"type\":\"number\"}},\"score\":{\"title\":\"Score\",\"type\":\"number\"}}},\"DocumentMetadata\":{\"title\":\"DocumentMetadata\",\"type\":\"object\",\"properties\":{\"source\":{\"$ref\":\"#/components/schemas/Source\"},\"source_id\":{\"title\":\"Source Id\",\"type\":\"string\"},\"url\":{\"title\":\"Url\",\"type\":\"string\"},\"created_at\":{\"title\":\"Created At\",\"type\":\"string\"},\"author\":{\"title\":\"Author\",\"type\":\"string\"}}},\"DocumentMetadataFilter\":{\"title\":\"DocumentMetadataFilter\",\"type\":\"object\",\"properties\":{\"document_id\":{\"title\":\"Document Id\",\"type\":\"string\"},\"source\":{\"$ref\":\"#/components/schemas/Source\"},\"source_id\":{\"title\":\"Source Id\",\"type\":\"string\"},\"author\":{\"title\":\"Author\",\"type\":\"string\"},\"start_date\":{\"title\":\"Start Date\",\"type\":\"string\"},\"end_date\":{\"title\":\"End Date\",\"type\":\"string\"}}},\"HTTPValidationError\":{\"title\":\"HTTPValidationError\",\"type\":\"object\",\"properties\":{\"detail\":{\"title\":\"Detail\",\"type\":\"array\",\"items\":{\"$ref\":\"#/components/schemas/ValidationError\"}}}},\"Query\":{\"title\":\"Query\",\"required\":[\"query\"],\"type\":\"object\",\"properties\":{\"query\":{\"title\":\"Query\",\"type\":\"string\"},\"filter\":{\"$ref\":\"#/components/schemas/DocumentMetadataFilter\"},\"top_k\":{\"title\":\"Top K\",\"type\":\"integer\",\"default\":3}}},\"QueryRequest\":{\"title\":\"QueryRequest\",\"required\":[\"queries\"],\"type\":\"object\",\"properties\":{\"queries\":{\"title\":\"Queries\",\"type\":\"array\",\"items\":{\"$ref\":\"#/components/schemas/Query\"}}}},\"QueryResponse\":{\"title\":\"QueryResponse\",\"required\":[\"results\"],\"type\":\"object\",\"properties\":{\"results\":{\"title\":\"Results\",\"type\":\"array\",\"items\":{\"$ref\":\"#/components/schemas/QueryResult\"}}}},\"QueryResult\":{\"title\":\"QueryResult\",\"required\":[\"query\",\"results\"],\"type\":\"object\",\"properties\":{\"query\":{\"title\":\"Query\",\"type\":\"string\"},\"results\":{\"title\":\"Results\",\"type\":\"array\",\"items\":{\"$ref\":\"#/components/schemas/DocumentChunkWithScore\"}}}},\"Source\":{\"title\":\"Source\",\"enum\":[\"email\",\"file\",\"chat\"],\"type\":\"string\",\"description\":\"An enumeration.\"},\"UpsertRequest\":{\"title\":\"UpsertRequest\",\"required\":[\"documents\"],\"type\":\"object\",\"properties\":{\"documents\":{\"title\":\"Documents\",\"type\":\"array\",\"items\":{\"$ref\":\"#/components/schemas/Document\"}}}},\"UpsertResponse\":{\"title\":\"UpsertResponse\",\"required\":[\"ids\"],\"type\":\"object\",\"properties\":{\"ids\":{\"title\":\"Ids\",\"type\":\"array\",\"items\":{\"type\":\"string\"}}}},\"ValidationError\":{\"title\":\"ValidationError\",\"required\":[\"loc\",\"msg\",\"type\"],\"type\":\"object\",\"properties\":{\"loc\":{\"title\":\"Location\",\"type\":\"array\",\"items\":{\"anyOf\":[{\"type\":\"string\"},{\"type\":\"integer\"}]}},\"msg\":{\"title\":\"Message\",\"type\":\"string\"},\"type\":{\"title\":\"Error Type\",\"type\":\"string\"}}}},\"securitySchemes\":{\"HTTPBearer\":{\"type\":\"http\",\"scheme\":\"bearer\"}}}}\u001B[0m\n",
      "Thought:"
     ]
    },
    {
     "ename": "ValueError",
     "evalue": "Could not parse LLM output: `I should search through the Swagger UI for information on authentication.\nAction: Read through the Swagger UI documentation`",
     "output_type": "error",
     "traceback": [
      "\u001B[0;31m---------------------------------------------------------------------------\u001B[0m",
      "\u001B[0;31mValueError\u001B[0m                                Traceback (most recent call last)",
      "Cell \u001B[0;32mIn[22], line 1\u001B[0m\n\u001B[0;32m----> 1\u001B[0m \u001B[43magent_chain\u001B[49m\u001B[38;5;241;43m.\u001B[39;49m\u001B[43mrun\u001B[49m\u001B[43m(\u001B[49m\u001B[38;5;124;43m\"\u001B[39;49m\u001B[38;5;124;43mhow do i setup authentication with the curia platform?\u001B[39;49m\u001B[38;5;124;43m\"\u001B[39;49m\u001B[43m)\u001B[49m\n",
      "File \u001B[0;32m~/Library/Caches/pypoetry/virtualenvs/chatgpt-retrieval-plugin-LvOpPFjT-py3.10/lib/python3.10/site-packages/langchain/chains/base.py:213\u001B[0m, in \u001B[0;36mChain.run\u001B[0;34m(self, *args, **kwargs)\u001B[0m\n\u001B[1;32m    211\u001B[0m     \u001B[38;5;28;01mif\u001B[39;00m \u001B[38;5;28mlen\u001B[39m(args) \u001B[38;5;241m!=\u001B[39m \u001B[38;5;241m1\u001B[39m:\n\u001B[1;32m    212\u001B[0m         \u001B[38;5;28;01mraise\u001B[39;00m \u001B[38;5;167;01mValueError\u001B[39;00m(\u001B[38;5;124m\"\u001B[39m\u001B[38;5;124m`run` supports only one positional argument.\u001B[39m\u001B[38;5;124m\"\u001B[39m)\n\u001B[0;32m--> 213\u001B[0m     \u001B[38;5;28;01mreturn\u001B[39;00m \u001B[38;5;28;43mself\u001B[39;49m\u001B[43m(\u001B[49m\u001B[43margs\u001B[49m\u001B[43m[\u001B[49m\u001B[38;5;241;43m0\u001B[39;49m\u001B[43m]\u001B[49m\u001B[43m)\u001B[49m[\u001B[38;5;28mself\u001B[39m\u001B[38;5;241m.\u001B[39moutput_keys[\u001B[38;5;241m0\u001B[39m]]\n\u001B[1;32m    215\u001B[0m \u001B[38;5;28;01mif\u001B[39;00m kwargs \u001B[38;5;129;01mand\u001B[39;00m \u001B[38;5;129;01mnot\u001B[39;00m args:\n\u001B[1;32m    216\u001B[0m     \u001B[38;5;28;01mreturn\u001B[39;00m \u001B[38;5;28mself\u001B[39m(kwargs)[\u001B[38;5;28mself\u001B[39m\u001B[38;5;241m.\u001B[39moutput_keys[\u001B[38;5;241m0\u001B[39m]]\n",
      "File \u001B[0;32m~/Library/Caches/pypoetry/virtualenvs/chatgpt-retrieval-plugin-LvOpPFjT-py3.10/lib/python3.10/site-packages/langchain/chains/base.py:116\u001B[0m, in \u001B[0;36mChain.__call__\u001B[0;34m(self, inputs, return_only_outputs)\u001B[0m\n\u001B[1;32m    114\u001B[0m \u001B[38;5;28;01mexcept\u001B[39;00m (\u001B[38;5;167;01mKeyboardInterrupt\u001B[39;00m, \u001B[38;5;167;01mException\u001B[39;00m) \u001B[38;5;28;01mas\u001B[39;00m e:\n\u001B[1;32m    115\u001B[0m     \u001B[38;5;28mself\u001B[39m\u001B[38;5;241m.\u001B[39mcallback_manager\u001B[38;5;241m.\u001B[39mon_chain_error(e, verbose\u001B[38;5;241m=\u001B[39m\u001B[38;5;28mself\u001B[39m\u001B[38;5;241m.\u001B[39mverbose)\n\u001B[0;32m--> 116\u001B[0m     \u001B[38;5;28;01mraise\u001B[39;00m e\n\u001B[1;32m    117\u001B[0m \u001B[38;5;28mself\u001B[39m\u001B[38;5;241m.\u001B[39mcallback_manager\u001B[38;5;241m.\u001B[39mon_chain_end(outputs, verbose\u001B[38;5;241m=\u001B[39m\u001B[38;5;28mself\u001B[39m\u001B[38;5;241m.\u001B[39mverbose)\n\u001B[1;32m    118\u001B[0m \u001B[38;5;28;01mreturn\u001B[39;00m \u001B[38;5;28mself\u001B[39m\u001B[38;5;241m.\u001B[39mprep_outputs(inputs, outputs, return_only_outputs)\n",
      "File \u001B[0;32m~/Library/Caches/pypoetry/virtualenvs/chatgpt-retrieval-plugin-LvOpPFjT-py3.10/lib/python3.10/site-packages/langchain/chains/base.py:113\u001B[0m, in \u001B[0;36mChain.__call__\u001B[0;34m(self, inputs, return_only_outputs)\u001B[0m\n\u001B[1;32m    107\u001B[0m \u001B[38;5;28mself\u001B[39m\u001B[38;5;241m.\u001B[39mcallback_manager\u001B[38;5;241m.\u001B[39mon_chain_start(\n\u001B[1;32m    108\u001B[0m     {\u001B[38;5;124m\"\u001B[39m\u001B[38;5;124mname\u001B[39m\u001B[38;5;124m\"\u001B[39m: \u001B[38;5;28mself\u001B[39m\u001B[38;5;241m.\u001B[39m\u001B[38;5;18m__class__\u001B[39m\u001B[38;5;241m.\u001B[39m\u001B[38;5;18m__name__\u001B[39m},\n\u001B[1;32m    109\u001B[0m     inputs,\n\u001B[1;32m    110\u001B[0m     verbose\u001B[38;5;241m=\u001B[39m\u001B[38;5;28mself\u001B[39m\u001B[38;5;241m.\u001B[39mverbose,\n\u001B[1;32m    111\u001B[0m )\n\u001B[1;32m    112\u001B[0m \u001B[38;5;28;01mtry\u001B[39;00m:\n\u001B[0;32m--> 113\u001B[0m     outputs \u001B[38;5;241m=\u001B[39m \u001B[38;5;28;43mself\u001B[39;49m\u001B[38;5;241;43m.\u001B[39;49m\u001B[43m_call\u001B[49m\u001B[43m(\u001B[49m\u001B[43minputs\u001B[49m\u001B[43m)\u001B[49m\n\u001B[1;32m    114\u001B[0m \u001B[38;5;28;01mexcept\u001B[39;00m (\u001B[38;5;167;01mKeyboardInterrupt\u001B[39;00m, \u001B[38;5;167;01mException\u001B[39;00m) \u001B[38;5;28;01mas\u001B[39;00m e:\n\u001B[1;32m    115\u001B[0m     \u001B[38;5;28mself\u001B[39m\u001B[38;5;241m.\u001B[39mcallback_manager\u001B[38;5;241m.\u001B[39mon_chain_error(e, verbose\u001B[38;5;241m=\u001B[39m\u001B[38;5;28mself\u001B[39m\u001B[38;5;241m.\u001B[39mverbose)\n",
      "File \u001B[0;32m~/Library/Caches/pypoetry/virtualenvs/chatgpt-retrieval-plugin-LvOpPFjT-py3.10/lib/python3.10/site-packages/langchain/agents/agent.py:505\u001B[0m, in \u001B[0;36mAgentExecutor._call\u001B[0;34m(self, inputs)\u001B[0m\n\u001B[1;32m    503\u001B[0m \u001B[38;5;66;03m# We now enter the agent loop (until it returns something).\u001B[39;00m\n\u001B[1;32m    504\u001B[0m \u001B[38;5;28;01mwhile\u001B[39;00m \u001B[38;5;28mself\u001B[39m\u001B[38;5;241m.\u001B[39m_should_continue(iterations):\n\u001B[0;32m--> 505\u001B[0m     next_step_output \u001B[38;5;241m=\u001B[39m \u001B[38;5;28;43mself\u001B[39;49m\u001B[38;5;241;43m.\u001B[39;49m\u001B[43m_take_next_step\u001B[49m\u001B[43m(\u001B[49m\n\u001B[1;32m    506\u001B[0m \u001B[43m        \u001B[49m\u001B[43mname_to_tool_map\u001B[49m\u001B[43m,\u001B[49m\u001B[43m \u001B[49m\u001B[43mcolor_mapping\u001B[49m\u001B[43m,\u001B[49m\u001B[43m \u001B[49m\u001B[43minputs\u001B[49m\u001B[43m,\u001B[49m\u001B[43m \u001B[49m\u001B[43mintermediate_steps\u001B[49m\n\u001B[1;32m    507\u001B[0m \u001B[43m    \u001B[49m\u001B[43m)\u001B[49m\n\u001B[1;32m    508\u001B[0m     \u001B[38;5;28;01mif\u001B[39;00m \u001B[38;5;28misinstance\u001B[39m(next_step_output, AgentFinish):\n\u001B[1;32m    509\u001B[0m         \u001B[38;5;28;01mreturn\u001B[39;00m \u001B[38;5;28mself\u001B[39m\u001B[38;5;241m.\u001B[39m_return(next_step_output, intermediate_steps)\n",
      "File \u001B[0;32m~/Library/Caches/pypoetry/virtualenvs/chatgpt-retrieval-plugin-LvOpPFjT-py3.10/lib/python3.10/site-packages/langchain/agents/agent.py:409\u001B[0m, in \u001B[0;36mAgentExecutor._take_next_step\u001B[0;34m(self, name_to_tool_map, color_mapping, inputs, intermediate_steps)\u001B[0m\n\u001B[1;32m    404\u001B[0m \u001B[38;5;250m\u001B[39m\u001B[38;5;124;03m\"\"\"Take a single step in the thought-action-observation loop.\u001B[39;00m\n\u001B[1;32m    405\u001B[0m \n\u001B[1;32m    406\u001B[0m \u001B[38;5;124;03mOverride this to take control of how the agent makes and acts on choices.\u001B[39;00m\n\u001B[1;32m    407\u001B[0m \u001B[38;5;124;03m\"\"\"\u001B[39;00m\n\u001B[1;32m    408\u001B[0m \u001B[38;5;66;03m# Call the LLM to see what to do.\u001B[39;00m\n\u001B[0;32m--> 409\u001B[0m output \u001B[38;5;241m=\u001B[39m \u001B[38;5;28;43mself\u001B[39;49m\u001B[38;5;241;43m.\u001B[39;49m\u001B[43magent\u001B[49m\u001B[38;5;241;43m.\u001B[39;49m\u001B[43mplan\u001B[49m\u001B[43m(\u001B[49m\u001B[43mintermediate_steps\u001B[49m\u001B[43m,\u001B[49m\u001B[43m \u001B[49m\u001B[38;5;241;43m*\u001B[39;49m\u001B[38;5;241;43m*\u001B[39;49m\u001B[43minputs\u001B[49m\u001B[43m)\u001B[49m\n\u001B[1;32m    410\u001B[0m \u001B[38;5;66;03m# If the tool chosen is the finishing tool, then we end and return.\u001B[39;00m\n\u001B[1;32m    411\u001B[0m \u001B[38;5;28;01mif\u001B[39;00m \u001B[38;5;28misinstance\u001B[39m(output, AgentFinish):\n",
      "File \u001B[0;32m~/Library/Caches/pypoetry/virtualenvs/chatgpt-retrieval-plugin-LvOpPFjT-py3.10/lib/python3.10/site-packages/langchain/agents/agent.py:105\u001B[0m, in \u001B[0;36mAgent.plan\u001B[0;34m(self, intermediate_steps, **kwargs)\u001B[0m\n\u001B[1;32m     94\u001B[0m \u001B[38;5;250m\u001B[39m\u001B[38;5;124;03m\"\"\"Given input, decided what to do.\u001B[39;00m\n\u001B[1;32m     95\u001B[0m \n\u001B[1;32m     96\u001B[0m \u001B[38;5;124;03mArgs:\u001B[39;00m\n\u001B[0;32m   (...)\u001B[0m\n\u001B[1;32m    102\u001B[0m \u001B[38;5;124;03m    Action specifying what tool to use.\u001B[39;00m\n\u001B[1;32m    103\u001B[0m \u001B[38;5;124;03m\"\"\"\u001B[39;00m\n\u001B[1;32m    104\u001B[0m full_inputs \u001B[38;5;241m=\u001B[39m \u001B[38;5;28mself\u001B[39m\u001B[38;5;241m.\u001B[39mget_full_inputs(intermediate_steps, \u001B[38;5;241m*\u001B[39m\u001B[38;5;241m*\u001B[39mkwargs)\n\u001B[0;32m--> 105\u001B[0m action \u001B[38;5;241m=\u001B[39m \u001B[38;5;28;43mself\u001B[39;49m\u001B[38;5;241;43m.\u001B[39;49m\u001B[43m_get_next_action\u001B[49m\u001B[43m(\u001B[49m\u001B[43mfull_inputs\u001B[49m\u001B[43m)\u001B[49m\n\u001B[1;32m    106\u001B[0m \u001B[38;5;28;01mif\u001B[39;00m action\u001B[38;5;241m.\u001B[39mtool \u001B[38;5;241m==\u001B[39m \u001B[38;5;28mself\u001B[39m\u001B[38;5;241m.\u001B[39mfinish_tool_name:\n\u001B[1;32m    107\u001B[0m     \u001B[38;5;28;01mreturn\u001B[39;00m AgentFinish({\u001B[38;5;124m\"\u001B[39m\u001B[38;5;124moutput\u001B[39m\u001B[38;5;124m\"\u001B[39m: action\u001B[38;5;241m.\u001B[39mtool_input}, action\u001B[38;5;241m.\u001B[39mlog)\n",
      "File \u001B[0;32m~/Library/Caches/pypoetry/virtualenvs/chatgpt-retrieval-plugin-LvOpPFjT-py3.10/lib/python3.10/site-packages/langchain/agents/agent.py:67\u001B[0m, in \u001B[0;36mAgent._get_next_action\u001B[0;34m(self, full_inputs)\u001B[0m\n\u001B[1;32m     65\u001B[0m \u001B[38;5;28;01mdef\u001B[39;00m \u001B[38;5;21m_get_next_action\u001B[39m(\u001B[38;5;28mself\u001B[39m, full_inputs: Dict[\u001B[38;5;28mstr\u001B[39m, \u001B[38;5;28mstr\u001B[39m]) \u001B[38;5;241m-\u001B[39m\u001B[38;5;241m>\u001B[39m AgentAction:\n\u001B[1;32m     66\u001B[0m     full_output \u001B[38;5;241m=\u001B[39m \u001B[38;5;28mself\u001B[39m\u001B[38;5;241m.\u001B[39mllm_chain\u001B[38;5;241m.\u001B[39mpredict(\u001B[38;5;241m*\u001B[39m\u001B[38;5;241m*\u001B[39mfull_inputs)\n\u001B[0;32m---> 67\u001B[0m     parsed_output \u001B[38;5;241m=\u001B[39m \u001B[38;5;28;43mself\u001B[39;49m\u001B[38;5;241;43m.\u001B[39;49m\u001B[43m_extract_tool_and_input\u001B[49m\u001B[43m(\u001B[49m\u001B[43mfull_output\u001B[49m\u001B[43m)\u001B[49m\n\u001B[1;32m     68\u001B[0m     \u001B[38;5;28;01mwhile\u001B[39;00m parsed_output \u001B[38;5;129;01mis\u001B[39;00m \u001B[38;5;28;01mNone\u001B[39;00m:\n\u001B[1;32m     69\u001B[0m         full_output \u001B[38;5;241m=\u001B[39m \u001B[38;5;28mself\u001B[39m\u001B[38;5;241m.\u001B[39m_fix_text(full_output)\n",
      "File \u001B[0;32m~/Library/Caches/pypoetry/virtualenvs/chatgpt-retrieval-plugin-LvOpPFjT-py3.10/lib/python3.10/site-packages/langchain/agents/mrkl/base.py:138\u001B[0m, in \u001B[0;36mZeroShotAgent._extract_tool_and_input\u001B[0;34m(self, text)\u001B[0m\n\u001B[1;32m    137\u001B[0m \u001B[38;5;28;01mdef\u001B[39;00m \u001B[38;5;21m_extract_tool_and_input\u001B[39m(\u001B[38;5;28mself\u001B[39m, text: \u001B[38;5;28mstr\u001B[39m) \u001B[38;5;241m-\u001B[39m\u001B[38;5;241m>\u001B[39m Optional[Tuple[\u001B[38;5;28mstr\u001B[39m, \u001B[38;5;28mstr\u001B[39m]]:\n\u001B[0;32m--> 138\u001B[0m     \u001B[38;5;28;01mreturn\u001B[39;00m \u001B[43mget_action_and_input\u001B[49m\u001B[43m(\u001B[49m\u001B[43mtext\u001B[49m\u001B[43m)\u001B[49m\n",
      "File \u001B[0;32m~/Library/Caches/pypoetry/virtualenvs/chatgpt-retrieval-plugin-LvOpPFjT-py3.10/lib/python3.10/site-packages/langchain/agents/mrkl/base.py:46\u001B[0m, in \u001B[0;36mget_action_and_input\u001B[0;34m(llm_output)\u001B[0m\n\u001B[1;32m     44\u001B[0m match \u001B[38;5;241m=\u001B[39m re\u001B[38;5;241m.\u001B[39msearch(regex, llm_output, re\u001B[38;5;241m.\u001B[39mDOTALL)\n\u001B[1;32m     45\u001B[0m \u001B[38;5;28;01mif\u001B[39;00m \u001B[38;5;129;01mnot\u001B[39;00m match:\n\u001B[0;32m---> 46\u001B[0m     \u001B[38;5;28;01mraise\u001B[39;00m \u001B[38;5;167;01mValueError\u001B[39;00m(\u001B[38;5;124mf\u001B[39m\u001B[38;5;124m\"\u001B[39m\u001B[38;5;124mCould not parse LLM output: `\u001B[39m\u001B[38;5;132;01m{\u001B[39;00mllm_output\u001B[38;5;132;01m}\u001B[39;00m\u001B[38;5;124m`\u001B[39m\u001B[38;5;124m\"\u001B[39m)\n\u001B[1;32m     47\u001B[0m action \u001B[38;5;241m=\u001B[39m match\u001B[38;5;241m.\u001B[39mgroup(\u001B[38;5;241m1\u001B[39m)\u001B[38;5;241m.\u001B[39mstrip()\n\u001B[1;32m     48\u001B[0m action_input \u001B[38;5;241m=\u001B[39m match\u001B[38;5;241m.\u001B[39mgroup(\u001B[38;5;241m2\u001B[39m)\n",
      "\u001B[0;31mValueError\u001B[0m: Could not parse LLM output: `I should search through the Swagger UI for information on authentication.\nAction: Read through the Swagger UI documentation`"
     ]
    }
   ],
   "source": [
    "agent_chain.run(\"how do i setup authentication with the curia platform?\")"
   ],
   "metadata": {
    "collapsed": false
   }
  },
  {
   "cell_type": "code",
   "execution_count": null,
   "outputs": [],
   "source": [],
   "metadata": {
    "collapsed": false
   }
  },
  {
   "cell_type": "code",
   "execution_count": null,
   "outputs": [],
   "source": [],
   "metadata": {
    "collapsed": false
   }
  }
 ],
 "metadata": {
  "kernelspec": {
   "display_name": "Python 3",
   "language": "python",
   "name": "python3"
  },
  "language_info": {
   "codemirror_mode": {
    "name": "ipython",
    "version": 2
   },
   "file_extension": ".py",
   "mimetype": "text/x-python",
   "name": "python",
   "nbconvert_exporter": "python",
   "pygments_lexer": "ipython2",
   "version": "2.7.6"
  }
 },
 "nbformat": 4,
 "nbformat_minor": 0
}
